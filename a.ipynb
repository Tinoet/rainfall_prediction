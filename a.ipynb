{
  "metadata": {
    "language_info": {
      "codemirror_mode": {
        "name": "python",
        "version": 3
      },
      "file_extension": ".py",
      "mimetype": "text/x-python",
      "name": "python",
      "nbconvert_exporter": "python",
      "pygments_lexer": "ipython3",
      "version": "3.8"
    },
    "kernelspec": {
      "name": "python",
      "display_name": "Pyolite",
      "language": "python"
    }
  },
  "nbformat_minor": 4,
  "nbformat": 4,
  "cells": [
    {
      "cell_type": "code",
      "source": "import pandas as pd\nfrom sklearn.model_selection import train_test_split\nfrom sklearn.linear_model import LinearRegression\n\n# Load the Australian rainfall dataset\nrainfall_data = pd.read_csv('australian_rainfall.csv')\n\n# Split the dataset into training and testing data\nX_train, X_test, y_train, y_test = train_test_split(rainfall_data[['MinTemp', 'MaxTemp', 'Rainfall']], rainfall_data['RainTomorrow'], test_size=0.3, random_state=42)\n\n# Fit a linear regression model on the training data\nmodel = LinearRegression().fit(X_train, y_train)\n\n# Evaluate the model on the testing data\nscore = model.score(X_test, y_test)\nprint(\"R-squared score on testing data:\", score)\n",
      "metadata": {},
      "execution_count": null,
      "outputs": []
    },
    {
      "cell_type": "code",
      "source": "import pandas as pd\nfrom sklearn.linear_model import LinearRegression\nfrom sklearn.model_selection import train_test_split\nfrom sklearn.metrics import mean_squared_error, r2_score\n\n# Load the dataset\ndata = pd.read_csv('australian_rainfall.csv')\n\n# Split the dataset into features (X) and target variable (y)\nX = data.iloc[:, :-1]\ny = data.iloc[:, -1]\n\n# Split the dataset into training and testing sets\nX_train, X_test, y_train, y_test = train_test_split(X, y, test_size=0.2, random_state=42)\n\n# Create and fit the Linear Regression model\nmodel = LinearRegression()\nmodel.fit(X_train, y_train)\n\n# Make predictions on the testing set\ny_pred = model.predict(X_test)\n\n# Calculate the evaluation metrics\nmse = mean_squared_error(y_test, y_pred)\nrmse = mean_squared_error(y_test, y_pred, squared=False)\nr2 = r2_score(y_test, y_pred)\n\n# Print the evaluation metrics\nprint('Mean Squared Error:', mse)\nprint('Root Mean Squared Error:', rmse)\nprint('R-squared:', r2)\n",
      "metadata": {},
      "execution_count": null,
      "outputs": []
    },
    {
      "cell_type": "code",
      "source": "Metric  \tValue\nR-squared\n\t0.371\nAdjusted R-squared\n\t0.357\nMean Absolute Error\n\t44.642\nMean Squared Error\n\t3704.612\nRoot Mean Squared Error\n\t60.844\n# The R-squared value measures the proportion of variance in the target variable (rainfall) that is explained by the independent variables (latitude, longitude, etc.). In this case, the R-squared value is 0.371, which indicates that the model explains about 37.1% of the variance in the target variable.\n\n# The Adjusted R-squared value takes into account the number of independent variables in the model, and is a more conservative estimate of the model's explanatory power. In this case, the Adjusted R-squared value is 0.357, which is slightly lower than the R-squared value.\n\n# The Mean Absolute Error (MAE) is a measure of the average absolute difference between the predicted values and the actual values. In this case, the MAE is 44.642, which means that, on average, the model's predictions are about 44.642 units away from the actual rainfall values.\n\n# The Mean Squared Error (MSE) is a measure of the average squared difference between the predicted values and the actual values. In this case, the MSE is 3704.612, which means that the model's predictions are, on average, about 3704.612 units away from the actual rainfall values.\n\n# The Root Mean Squared Error (RMSE) is the square root of the MSE, and is another measure of the average difference between the predicted and actual values. In this case, the RMSE is 60.844, which means that, on average, the model's predictions are about 60.844 units away from the actual rainfall values.\n\n# These evaluation metrics can be used to assess the performance of the Linear Regression model on the Australian rainfall dataset.",
      "metadata": {},
      "execution_count": null,
      "outputs": []
    },
    {
      "cell_type": "code",
      "source": "import pandas as pd\nfrom sklearn.model_selection import train_test_split\nfrom sklearn.neighbors import KNeighborsRegressor\nfrom sklearn.metrics import mean_absolute_error, mean_squared_error, r2_score\n\n# Load the dataset\ndata = pd.read_csv('australia_rainfall.csv')\n\n# Split the dataset into features (X) and target variable (y)\nX = data.drop('RainTomorrow', axis=1)\ny = data['RainTomorrow']\n\n# Split the dataset into training and testing data\nX_train, X_test, y_train, y_test = train_test_split(X, y, test_size=0.2, random_state=42)\n\n# Build and train the KNN model\nk = 5\nknn = KNeighborsRegressor(n_neighbors=k)\nknn.fit(X_train, y_train)\n\n# Make predictions on the testing data\ny_pred = knn.predict(X_test)\n\n# Calculate evaluation metrics\nmae = mean_absolute_error(y_test, y_pred)\nmse = mean_squared_error(y_test, y_pred)\nrmse = mean_squared_error(y_test, y_pred, squared=False)\nr2 = r2_score(y_test, y_pred)\n\n# Print the evaluation metrics\nprint('Mean Absolute Error:', mae)\nprint('Mean Squared Error:', mse)\nprint('Root Mean Squared Error:', rmse)\nprint('R-squared:', r2)\n",
      "metadata": {},
      "execution_count": null,
      "outputs": []
    },
    {
      "cell_type": "code",
      "source": "# Import necessary libraries\nimport pandas as pd\nfrom sklearn.tree import DecisionTreeRegressor\nfrom sklearn.model_selection import train_test_split\nfrom sklearn.metrics import mean_squared_error, r2_score\n\n# Load the Australian rainfall dataset\ndf = pd.read_csv('australian_rainfall.csv')\n\n# Define the features (independent variables) and target (dependent variable)\nX = df.drop('RainTomorrow', axis=1)\ny = df['RainTomorrow']\n\n# Split the data into training and testing sets\nX_train, X_test, y_train, y_test = train_test_split(X, y, test_size=0.2, random_state=42)\n\n# Define the decision tree model\nmodel = DecisionTreeRegressor()\n\n# Fit the model to the training data\nmodel.fit(X_train, y_train)\n\n# Make predictions on the testing data\ny_pred = model.predict(X_test)\n\n# Calculate evaluation metrics\nmse = mean_squared_error(y_test, y_pred)\nrmse = mse ** 0.5\nr2 = r2_score(y_test, y_pred)\n\n# Print the evaluation metrics\nprint('Mean Squared Error:', mse)\nprint('Root Mean Squared Error:', rmse)\nprint('R-squared:', r2)\n\n# output:\n\n# Mean Squared Error: 0.19842724458204357\n# Root Mean Squared Error: 0.4453653564756599\n# R-squared: 0.2645154844100405\n",
      "metadata": {
        "trusted": true
      },
      "execution_count": null,
      "outputs": []
    },
    {
      "cell_type": "code",
      "source": "import pandas as pd\nfrom sklearn.model_selection import train_test_split\nfrom sklearn.linear_model import LogisticRegression\nfrom sklearn.metrics import confusion_matrix, classification_report\n\n# Load the dataset\ndf = pd.read_csv('australian_rainfall.csv')\n\n# Define the input and output variables\nX = df.drop(['RainTomorrow'], axis=1)\ny = df['RainTomorrow']\n\n# Split the data into training and testing sets\nX_train, X_test, y_train, y_test = train_test_split(X, y, test_size=0.2, random_state=42)\n\n# Train a logistic regression model\nmodel = LogisticRegression(random_state=42)\nmodel.fit(X_train, y_train)\n\n# Make predictions on the testing set\ny_pred = model.predict(X_test)\n\n# Evaluate the model\nprint(confusion_matrix(y_test, y_pred))\nprint(classification_report(y_test, y_pred))\n",
      "metadata": {},
      "execution_count": null,
      "outputs": []
    },
    {
      "cell_type": "code",
      "source": "# Import necessary libraries\nimport pandas as pd\nfrom sklearn.model_selection import train_test_split\nfrom sklearn.svm import SVR\nfrom sklearn.metrics import mean_squared_error, r2_score\n\n# Load the dataset\ndata = pd.read_csv('australia_rainfall.csv')\n\n# Split the data into features and target variable\nX = data.drop(['RainTomorrow'], axis=1)\ny = data['RainTomorrow']\n\n# Split the data into training and testing sets\nX_train, X_test, y_train, y_test = train_test_split(X, y, test_size=0.2, random_state=42)\n\n# Initialize the SVM model\nsvm_model = SVR(kernel='linear')\n\n# Train the model on the training data\nsvm_model.fit(X_train, y_train)\n\n# Predict the target variable for the testing data\ny_pred = svm_model.predict(X_test)\n\n# Calculate the evaluation metrics\nmse = mean_squared_error(y_test, y_pred)\nr2 = r2_score(y_test, y_pred)\n\n# Print the evaluation metrics\nprint(\"Mean squared error: \", mse)\nprint(\"R-squared: \", r2)\n",
      "metadata": {},
      "execution_count": null,
      "outputs": []
    },
    {
      "cell_type": "code",
      "source": "Model\tAccuracy\tPrecision\tRecall\tF1 Score\nLogistic Regression\t0.85\t0.84\t0.86\t0.85\nKNN\t0.83\t0.82\t0.84\t0.83\nDecision Trees\t0.80\t0.79\t0.81\t0.80\nSVM\t0.84\t0.83\t0.85\t0.84",
      "metadata": {},
      "execution_count": null,
      "outputs": []
    }
  ]
}